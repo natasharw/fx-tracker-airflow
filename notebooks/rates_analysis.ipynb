{
 "cells": [
  {
   "cell_type": "markdown",
   "metadata": {
    "papermill": {
     "duration": null,
     "end_time": null,
     "exception": null,
     "start_time": null,
     "status": "completed"
    },
    "tags": []
   },
   "source": [
    "## Exchange rate analysis\n",
    "\n",
    "<b>This is just a dummy notebook for now  \n",
    "In the future it could be used to do analysis of exchange rates"
   ]
  },
  {
   "cell_type": "code",
   "execution_count": null,
   "metadata": {
    "jupyter": {
     "source_hidden": true
    },
    "papermill": {
     "duration": null,
     "end_time": null,
     "exception": null,
     "start_time": null,
     "status": "completed"
    },
    "tags": []
   },
   "outputs": [],
   "source": []
  }
 ],
 "metadata": {
  "kernelspec": {
   "display_name": "Python 3",
   "language": "python",
   "name": "python3"
  },
  "language_info": {
   "codemirror_mode": {
    "name": "ipython",
    "version": 3
   },
   "file_extension": ".py",
   "mimetype": "text/x-python",
   "name": "python",
   "nbconvert_exporter": "python",
   "pygments_lexer": "ipython3",
   "version": "3.8.2"
  },
  "papermill": {
   "duration": 0.188789,
   "end_time": "2020-04-13T20:27:16.419752",
   "environment_variables": {},
   "exception": null,
   "input_path": "/usr/local/airflow/notebooks/rates_analysis.ipynb",
   "output_path": "/usr/local/airflow/notebooks/rates_analysis.ipynb",
   "parameters": {},
   "start_time": "2020-04-13T20:27:16.230963",
   "version": "2.1.0"
  }
 },
 "nbformat": 4,
 "nbformat_minor": 4
}